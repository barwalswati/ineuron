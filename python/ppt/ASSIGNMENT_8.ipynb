{
 "cells": [
  {
   "attachments": {},
   "cell_type": "markdown",
   "metadata": {},
   "source": [
    "\n",
    "💡 **Question 1**\n",
    "\n",
    "Given two strings s1 and s2, return *the lowest **ASCII** sum of deleted characters to make two strings equal*.\n",
    "\n",
    "**Example 1:**\n",
    "\n",
    "**Input:** s1 = \"sea\", s2 = \"eat\"\n",
    "\n",
    "**Output:** 231\n",
    "\n",
    "**Explanation:** Deleting \"s\" from \"sea\" adds the ASCII value of \"s\" (115) to the sum.\n",
    "\n",
    "Deleting \"t\" from \"eat\" adds 116 to the sum.\n",
    "\n",
    "At the end, both strings are equal, and 115 + 116 = 231 is the minimum sum possible to achieve this.\n",
    "\n"
   ]
  },
  {
   "cell_type": "code",
   "execution_count": 1,
   "metadata": {},
   "outputs": [
    {
     "name": "stdout",
     "output_type": "stream",
     "text": [
      "231\n"
     ]
    }
   ],
   "source": [
    "def minimum_delete_sum(s1, s2):\n",
    "    m, n = len(s1), len(s2)\n",
    "    # Initialize the dp table with zeros\n",
    "    dp = [[0] * (n + 1) for _ in range(m + 1)]\n",
    "\n",
    "    # Fill the dp table\n",
    "    for i in range(1, m + 1):\n",
    "        dp[i][0] = dp[i - 1][0] + ord(s1[i - 1])\n",
    "\n",
    "    for j in range(1, n + 1):\n",
    "        dp[0][j] = dp[0][j - 1] + ord(s2[j - 1])\n",
    "\n",
    "    for i in range(1, m + 1):\n",
    "        for j in range(1, n + 1):\n",
    "            if s1[i - 1] == s2[j - 1]:\n",
    "                dp[i][j] = dp[i - 1][j - 1]\n",
    "            else:\n",
    "                dp[i][j] = min(dp[i - 1][j] + ord(s1[i - 1]), dp[i][j - 1] + ord(s2[j - 1]))\n",
    "\n",
    "    return dp[m][n]\n",
    "\n",
    "# Test case\n",
    "s1 = \"sea\"\n",
    "s2 = \"eat\"\n",
    "print(minimum_delete_sum(s1, s2))  \n"
   ]
  },
  {
   "attachments": {},
   "cell_type": "markdown",
   "metadata": {},
   "source": [
    "\n",
    "💡 **Question 2**\n",
    "\n",
    "Given a string s containing only three types of characters: '(', ')' and '*', return true *if* s *is **valid***.\n",
    "\n",
    "The following rules define a **valid** string:\n",
    "\n",
    "- Any left parenthesis '(' must have a corresponding right parenthesis ')'.\n",
    "- Any right parenthesis ')' must have a corresponding left parenthesis '('.\n",
    "- Left parenthesis '(' must go before the corresponding right parenthesis ')'.\n",
    "- '*' could be treated as a single right parenthesis ')' or a single left parenthesis '(' or an empty string \"\".\n",
    "\n",
    "**Example 1:**\n",
    "\n",
    "**Input:** s = \"()\"\n",
    "\n",
    "**Output:**\n",
    "\n",
    "true\n",
    "\n"
   ]
  },
  {
   "cell_type": "code",
   "execution_count": 2,
   "metadata": {},
   "outputs": [
    {
     "name": "stdout",
     "output_type": "stream",
     "text": [
      "True\n"
     ]
    }
   ],
   "source": [
    "def is_valid(s):\n",
    "    stack = []\n",
    "    wildcards = 0\n",
    "\n",
    "    for char in s:\n",
    "        if char == '(':\n",
    "            stack.append(char)\n",
    "        elif char == ')':\n",
    "            if stack:\n",
    "                stack.pop()\n",
    "            elif wildcards > 0:\n",
    "                wildcards -= 1\n",
    "            else:\n",
    "                return False\n",
    "        elif char == '*':\n",
    "            wildcards += 1\n",
    "\n",
    "    while stack and wildcards > 0:\n",
    "        stack.pop()\n",
    "        wildcards -= 1\n",
    "\n",
    "    return len(stack) == 0\n",
    "\n",
    "# Test case\n",
    "s = \"()\"\n",
    "print(is_valid(s))  \n"
   ]
  },
  {
   "attachments": {},
   "cell_type": "markdown",
   "metadata": {},
   "source": [
    "\n",
    "💡 **Question 3**\n",
    "\n",
    "Given two strings word1 and word2, return *the minimum number of **steps** required to make* word1 *and* word2 *the same*.\n",
    "\n",
    "In one **step**, you can delete exactly one character in either string.\n",
    "\n",
    "**Example 1:**\n",
    "\n",
    "**Input:** word1 = \"sea\", word2 = \"eat\"\n",
    "\n",
    "**Output:** 2\n",
    "\n",
    "**Explanation:** You need one step to make \"sea\" to \"ea\" and another step to make \"eat\" to \"ea\".\n",
    "\n"
   ]
  },
  {
   "cell_type": "code",
   "execution_count": 3,
   "metadata": {},
   "outputs": [
    {
     "name": "stdout",
     "output_type": "stream",
     "text": [
      "2\n"
     ]
    }
   ],
   "source": [
    "def min_steps_to_same(word1, word2):\n",
    "    # Find the length of the longest common subsequence\n",
    "    lcs_length = longest_common_subsequence(word1, word2)\n",
    "\n",
    "    # Calculate the minimum number of steps required\n",
    "    steps = len(word1) + len(word2) - 2 * lcs_length\n",
    "\n",
    "    return steps\n",
    "\n",
    "def longest_common_subsequence(word1, word2):\n",
    "    m = len(word1)\n",
    "    n = len(word2)\n",
    "\n",
    "    # Create a 2D array to store the lengths of common subsequences\n",
    "    dp = [[0] * (n + 1) for _ in range(m + 1)]\n",
    "\n",
    "    # Compute the lengths of common subsequences\n",
    "    for i in range(1, m + 1):\n",
    "        for j in range(1, n + 1):\n",
    "            if word1[i - 1] == word2[j - 1]:\n",
    "                dp[i][j] = dp[i - 1][j - 1] + 1\n",
    "            else:\n",
    "                dp[i][j] = max(dp[i - 1][j], dp[i][j - 1])\n",
    "\n",
    "    return dp[m][n]\n",
    "\n",
    "# Test case\n",
    "word1 = \"sea\"\n",
    "word2 = \"eat\"\n",
    "print(min_steps_to_same(word1, word2))  \n"
   ]
  },
  {
   "attachments": {},
   "cell_type": "markdown",
   "metadata": {},
   "source": [
    "\n",
    "💡 **Question 4**\n",
    "\n",
    "You need to construct a binary tree from a string consisting of parenthesis and integers.\n",
    "\n",
    "The whole input represents a binary tree. It contains an integer followed by zero, one or two pairs of parenthesis. The integer represents the root's value and a pair of parenthesis contains a child binary tree with the same structure.\n",
    "You always start to construct the **left** child node of the parent first if it exists.\n",
    "\n"
   ]
  },
  {
   "cell_type": "code",
   "execution_count": 8,
   "metadata": {},
   "outputs": [
    {
     "name": "stdout",
     "output_type": "stream",
     "text": [
      "3 2 1 4 5 6 "
     ]
    }
   ],
   "source": [
    "class TreeNode:\n",
    "    def __init__(self, val=0, left=None, right=None):\n",
    "        self.val = val\n",
    "        self.left = left\n",
    "        self.right = right\n",
    "\n",
    "def str2tree(s):\n",
    "    if not s:\n",
    "        return None\n",
    "\n",
    "    # Find the index of the first \"(\"\n",
    "    i = s.find(\"(\")\n",
    "\n",
    "    if i == -1:\n",
    "        # If \"(\" is not found, the entire string represents a single node\n",
    "        return TreeNode(int(s))\n",
    "\n",
    "    # Construct the root node with the value before \"(\"\n",
    "    root = TreeNode(int(s[:i]))\n",
    "\n",
    "    # Find the substring inside the first pair of parentheses\n",
    "    j = find_matching_parentheses(s[i:])\n",
    "\n",
    "    # Recursively construct the left child tree\n",
    "    root.left = str2tree(s[i+1:i+j])\n",
    "\n",
    "    # Recursively construct the right child tree\n",
    "    root.right = str2tree(s[i+j+2:-1])\n",
    "\n",
    "    return root\n",
    "\n",
    "def find_matching_parentheses(s):\n",
    "    count = 0\n",
    "    for i in range(len(s)):\n",
    "        if s[i] == \"(\":\n",
    "            count += 1\n",
    "        elif s[i] == \")\":\n",
    "            count -= 1\n",
    "            if count == 0:\n",
    "                return i\n",
    "\n",
    "    return -1\n",
    "\n",
    "# Test case\n",
    "s = \"4(2(3)(1))(6(5))\"\n",
    "root = str2tree(s)\n",
    "\n",
    "# Function to traverse and print the binary tree in inorder traversal\n",
    "def inorder_traversal(node):\n",
    "    if node is None:\n",
    "        return\n",
    "\n",
    "    inorder_traversal(node.left)\n",
    "    print(node.val, end=\" \")\n",
    "    inorder_traversal(node.right)\n",
    "\n",
    "inorder_traversal(root)  \n"
   ]
  },
  {
   "attachments": {},
   "cell_type": "markdown",
   "metadata": {},
   "source": [
    "\n",
    "💡 **Question 5**\n",
    "\n",
    "Given an array of characters chars, compress it using the following algorithm:\n",
    "\n",
    "Begin with an empty string s. For each group of **consecutive repeating characters** in chars:\n",
    "\n",
    "- If the group's length is 1, append the character to s.\n",
    "- Otherwise, append the character followed by the group's length.\n",
    "\n",
    "The compressed string s **should not be returned separately**, but instead, be stored **in the input character array chars**. Note that group lengths that are 10 or longer will be split into multiple characters in chars.\n",
    "\n",
    "After you are done **modifying the input array,** return *the new length of the array*.\n",
    "\n",
    "You must write an algorithm that uses only constant extra space.\n",
    "\n",
    "**Example 1:**\n",
    "\n",
    "**Input:** chars = [\"a\",\"a\",\"b\",\"b\",\"c\",\"c\",\"c\"]\n",
    "\n",
    "**Output:** Return 6, and the first 6 characters of the input array should be: [\"a\",\"2\",\"b\",\"2\",\"c\",\"3\"]\n",
    "\n",
    "**Explanation:**\n",
    "\n",
    "The groups are \"aa\", \"bb\", and \"ccc\". This compresses to \"a2b2c3\".\n",
    "\n"
   ]
  },
  {
   "cell_type": "code",
   "execution_count": 9,
   "metadata": {},
   "outputs": [
    {
     "name": "stdout",
     "output_type": "stream",
     "text": [
      "6\n",
      "['a', '2', 'b', '2', 'c', '3']\n"
     ]
    }
   ],
   "source": [
    "def compress(chars):\n",
    "    n = len(chars)  # Length of the original array\n",
    "    write_idx = 0  # Index to write the compressed characters\n",
    "    count = 1  # Count of consecutive repeating characters\n",
    "\n",
    "    for read_idx in range(1, n):\n",
    "        if chars[read_idx] == chars[read_idx - 1]:\n",
    "            count += 1\n",
    "        else:\n",
    "            chars[write_idx] = chars[read_idx - 1]\n",
    "            write_idx += 1\n",
    "\n",
    "            if count > 1:\n",
    "                count_str = str(count)\n",
    "                for c in count_str:\n",
    "                    chars[write_idx] = c\n",
    "                    write_idx += 1\n",
    "\n",
    "            count = 1\n",
    "\n",
    "    chars[write_idx] = chars[n - 1]\n",
    "    write_idx += 1\n",
    "\n",
    "    if count > 1:\n",
    "        count_str = str(count)\n",
    "        for c in count_str:\n",
    "            chars[write_idx] = c\n",
    "            write_idx += 1\n",
    "\n",
    "    return write_idx\n",
    "\n",
    "# Test case\n",
    "chars = [\"a\", \"a\", \"b\", \"b\", \"c\", \"c\", \"c\"]\n",
    "new_length = compress(chars)\n",
    "\n",
    "print(new_length)  \n",
    "print(chars[:new_length])  \n"
   ]
  },
  {
   "attachments": {},
   "cell_type": "markdown",
   "metadata": {},
   "source": [
    "\n",
    "💡 **Question 6**\n",
    "\n",
    "Given two strings s and p, return *an array of all the start indices of* p*'s anagrams in* s. You may return the answer in **any order**.\n",
    "\n",
    "An **Anagram** is a word or phrase formed by rearranging the letters of a different word or phrase, typically using all the original letters exactly once.\n",
    "\n",
    "**Example 1:**\n",
    "\n",
    "**Input:** s = \"cbaebabacd\", p = \"abc\"\n",
    "\n",
    "**Output:** [0,6]\n",
    "\n",
    "**Explanation:**\n",
    "\n",
    "The substring with start index = 0 is \"cba\", which is an anagram of \"abc\".\n",
    "\n",
    "The substring with start index = 6 is \"bac\", which is an anagram of \"abc\".\n",
    "\n"
   ]
  },
  {
   "cell_type": "code",
   "execution_count": 10,
   "metadata": {},
   "outputs": [
    {
     "name": "stdout",
     "output_type": "stream",
     "text": [
      "[0, 6]\n"
     ]
    }
   ],
   "source": [
    "from collections import Counter\n",
    "\n",
    "def findAnagrams(s, p):\n",
    "    result = []\n",
    "    p_counter = Counter(p)  # Frequency counter for pattern string p\n",
    "    s_counter = Counter(s[:len(p)])  # Frequency counter for the initial window of size len(p)\n",
    "\n",
    "    # Check if the initial window is an anagram of p\n",
    "    if p_counter == s_counter:\n",
    "        result.append(0)\n",
    "\n",
    "    # Slide the window through the string s\n",
    "    for i in range(len(p), len(s)):\n",
    "        if s_counter[s[i - len(p)]] > 1:\n",
    "            s_counter[s[i - len(p)]] -= 1\n",
    "        else:\n",
    "            del s_counter[s[i - len(p)]]\n",
    "\n",
    "        s_counter[s[i]] += 1\n",
    "\n",
    "        # Check if the current window is an anagram of p\n",
    "        if p_counter == s_counter:\n",
    "            result.append(i - len(p) + 1)\n",
    "\n",
    "    return result\n",
    "\n",
    "# Test case\n",
    "s = \"cbaebabacd\"\n",
    "p = \"abc\"\n",
    "indices = findAnagrams(s, p)\n",
    "print(indices)  \n"
   ]
  },
  {
   "attachments": {},
   "cell_type": "markdown",
   "metadata": {},
   "source": [
    "\n",
    "💡 **Question 7**\n",
    "\n",
    "Given an encoded string, return its decoded string.\n",
    "\n",
    "The encoding rule is: k[encoded_string], where the encoded_string inside the square brackets is being repeated exactly k times. Note that k is guaranteed to be a positive integer.\n",
    "\n",
    "You may assume that the input string is always valid; there are no extra white spaces, square brackets are well-formed, etc. Furthermore, you may assume that the original data does not contain any digits and that digits are only for those repeat numbers, k. For example, there will not be input like 3a or 2[4].\n",
    "\n",
    "The test cases are generated so that the length of the output will never exceed 105.\n",
    "\n",
    "**Example 1:**\n",
    "\n",
    "**Input:** s = \"3[a]2[bc]\"\n",
    "\n",
    "**Output:** \"aaabcbc\"\n",
    "\n"
   ]
  },
  {
   "cell_type": "code",
   "execution_count": 12,
   "metadata": {},
   "outputs": [
    {
     "name": "stdout",
     "output_type": "stream",
     "text": [
      "aaabcbc\n"
     ]
    }
   ],
   "source": [
    "def decodeString(s):\n",
    "    stack = []  # Stack to store characters and repetition counts\n",
    "    current_string = \"\"  # Current decoded string\n",
    "    current_count = 0  # Current repetition count\n",
    "\n",
    "    for char in s:\n",
    "        if char.isdigit():\n",
    "            # Calculate the repetition count\n",
    "            current_count = current_count * 10 + int(char)\n",
    "        elif char == \"[\":\n",
    "            # Push the current repetition count and string to the stack\n",
    "            stack.append((current_string, current_count))\n",
    "            current_string = \"\"\n",
    "            current_count = 0\n",
    "        elif char == \"]\":\n",
    "            # Pop the last repetition count and string from the stack\n",
    "            prev_string, prev_count = stack.pop()\n",
    "            current_string = prev_string + current_string * prev_count\n",
    "        else:\n",
    "            # Append the character to the current string\n",
    "            current_string += char\n",
    "\n",
    "    return current_string\n",
    "\n",
    "# Test case\n",
    "s = \"3[a]2[bc]\"\n",
    "decoded_string = decodeString(s)\n",
    "print(decoded_string)  \n"
   ]
  },
  {
   "attachments": {},
   "cell_type": "markdown",
   "metadata": {},
   "source": [
    "\n",
    "💡 **Question 8**\n",
    "\n",
    "Given two strings s and goal, return true *if you can swap two letters in* s *so the result is equal to* goal*, otherwise, return* false*.*\n",
    "\n",
    "Swapping letters is defined as taking two indices i and j (0-indexed) such that i != j and swapping the characters at s[i] and s[j].\n",
    "\n",
    "- For example, swapping at indices 0 and 2 in \"abcd\" results in \"cbad\".\n",
    "\n",
    "**Example 1:**\n",
    "\n",
    "**Input:** s = \"ab\", goal = \"ba\"\n",
    "\n",
    "**Output:** true\n",
    "\n",
    "**Explanation:** You can swap s[0] = 'a' and s[1] = 'b' to get \"ba\", which is equal to goal.\n",
    "\n"
   ]
  },
  {
   "cell_type": "code",
   "execution_count": 14,
   "metadata": {},
   "outputs": [
    {
     "name": "stdout",
     "output_type": "stream",
     "text": [
      "True\n"
     ]
    }
   ],
   "source": [
    "def strings(s, goal):\n",
    "    \n",
    "    if len(s) != len(goal):\n",
    "        return False\n",
    "\n",
    "    if s == goal:\n",
    "        \n",
    "        seen = set()\n",
    "        for char in s:\n",
    "            if char in seen:\n",
    "                return True\n",
    "            seen.add(char)\n",
    "        return False\n",
    "\n",
    "    diff_positions = []\n",
    "    for i in range(len(s)):\n",
    "        if s[i] != goal[i]:\n",
    "            diff_positions.append(i)\n",
    "\n",
    "    \n",
    "    if len(diff_positions) != 2:\n",
    "        return False\n",
    "\n",
    "   \n",
    "    i, j = diff_positions\n",
    "    return s[i] == goal[j] and s[j] == goal[i]\n",
    "\n",
    "\n",
    "s = \"ab\"\n",
    "goal = \"ba\"\n",
    "result = strings(s, goal)\n",
    "print(result) \n"
   ]
  },
  {
   "cell_type": "code",
   "execution_count": null,
   "metadata": {},
   "outputs": [],
   "source": []
  }
 ],
 "metadata": {
  "kernelspec": {
   "display_name": "base",
   "language": "python",
   "name": "python3"
  },
  "language_info": {
   "codemirror_mode": {
    "name": "ipython",
    "version": 3
   },
   "file_extension": ".py",
   "mimetype": "text/x-python",
   "name": "python",
   "nbconvert_exporter": "python",
   "pygments_lexer": "ipython3",
   "version": "3.9.12"
  },
  "orig_nbformat": 4
 },
 "nbformat": 4,
 "nbformat_minor": 2
}
