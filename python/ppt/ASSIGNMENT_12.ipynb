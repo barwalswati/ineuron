{
 "cells": [
  {
   "attachments": {},
   "cell_type": "markdown",
   "metadata": {},
   "source": [
    "\n",
    "💡 **Question 1**\n",
    "\n",
    "Given a singly linked list, delete **middle** of the linked list. For example, if given linked list is 1->2->**3**->4->5 then linked list should be modified to 1->2->4->5.If there are **even** nodes, then there would be **two middle** nodes, we need to delete the second middle element. For example, if given linked list is 1->2->3->4->5->6 then it should be modified to 1->2->3->5->6.If the input linked list is NULL or has 1 node, then it should return NULL\n",
    "\n",
    "**Example 1:**\n",
    "\n",
    "Input:\n",
    "LinkedList: 1->2->3->4->5\n",
    "Output:1 2 4 5\n",
    "Example2:\n",
    "Input:\n",
    "LinkedList: 2->4->6->7->5->1\n",
    "Output:2 4 6 5 1"
   ]
  },
  {
   "cell_type": "code",
   "execution_count": 1,
   "metadata": {},
   "outputs": [],
   "source": [
    "class ListNode:\n",
    "    def __init__(self, val=0, next=None):\n",
    "        self.val = val\n",
    "        self.next = next\n",
    "\n",
    "def delete_middle_node(head):\n",
    "    if head is None or head.next is None:\n",
    "        return None\n",
    "\n",
    "    slow = head\n",
    "    fast = head\n",
    "\n",
    "    prev = None\n",
    "\n",
    "    while fast is not None and fast.next is not None:\n",
    "        fast = fast.next.next\n",
    "        prev = slow\n",
    "        slow = slow.next\n",
    "\n",
    "    if prev is None:\n",
    "        return None\n",
    "\n",
    "    prev.next = slow.next\n",
    "\n",
    "    return head\n"
   ]
  },
  {
   "cell_type": "code",
   "execution_count": 2,
   "metadata": {},
   "outputs": [
    {
     "name": "stdout",
     "output_type": "stream",
     "text": [
      "1 2 4 5 "
     ]
    }
   ],
   "source": [
    "# Create the linked list: 1 -> 2 -> 3 -> 4 -> 5\n",
    "head = ListNode(1)\n",
    "head.next = ListNode(2)\n",
    "head.next.next = ListNode(3)\n",
    "head.next.next.next = ListNode(4)\n",
    "head.next.next.next.next = ListNode(5)\n",
    "\n",
    "modified_head = delete_middle_node(head)\n",
    "\n",
    "while modified_head is not None:\n",
    "    print(modified_head.val, end=\" \")\n",
    "    modified_head = modified_head.next\n"
   ]
  },
  {
   "cell_type": "code",
   "execution_count": 3,
   "metadata": {},
   "outputs": [
    {
     "name": "stdout",
     "output_type": "stream",
     "text": [
      "2 4 6 5 1 "
     ]
    }
   ],
   "source": [
    "# Create the linked list: 2 -> 4 -> 6 -> 7 -> 5 -> 1\n",
    "head = ListNode(2)\n",
    "head.next = ListNode(4)\n",
    "head.next.next = ListNode(6)\n",
    "head.next.next.next = ListNode(7)\n",
    "head.next.next.next.next = ListNode(5)\n",
    "head.next.next.next.next.next = ListNode(1)\n",
    "\n",
    "\n",
    "modified_head = delete_middle_node(head)\n",
    "\n",
    "\n",
    "while modified_head is not None:\n",
    "    print(modified_head.val, end=\" \")\n",
    "    modified_head = modified_head.next\n"
   ]
  },
  {
   "attachments": {},
   "cell_type": "markdown",
   "metadata": {},
   "source": [
    "\n",
    "💡 **Question 2**\n",
    "\n",
    "Given a linked list of **N** nodes. The task is to check if the linked list has a loop. Linked list can contain self loop.\n",
    "\n",
    "**Example 1:**\n",
    "\n",
    "Input:\n",
    "N = 3\n",
    "value[] = {1,3,4}\n",
    "x(position at which tail is connected) = 2\n",
    "Output:True\n",
    "Explanation:In above test case N = 3.\n",
    "The linked list with nodes N = 3 is\n",
    "given. Then value of x=2 is given which\n",
    "means last node is connected with xth\n",
    "node of linked list. Therefore, there\n",
    "exists a loop.\n",
    "\n",
    "Example 2:\n",
    "Input:\n",
    "N = 4\n",
    "value[] = {1,8,3,4}\n",
    "x = 0\n",
    "Output:False\n",
    "Explanation:For N = 4 ,x = 0 means\n",
    "then lastNode->next = NULL, then\n",
    "the Linked list does not contains\n",
    "any loop."
   ]
  },
  {
   "cell_type": "code",
   "execution_count": 20,
   "metadata": {},
   "outputs": [],
   "source": [
    "class ListNode:\n",
    "    def __init__(self, val=0, next=None):\n",
    "        self.val = val\n",
    "        self.next = next\n",
    "\n",
    "def has_loop(head):\n",
    "    slow = head\n",
    "    fast = head\n",
    "\n",
    "    while fast is not None and fast.next is not None:\n",
    "        slow = slow.next\n",
    "        fast = fast.next.next\n",
    "\n",
    "        if slow == fast:\n",
    "            return True\n",
    "\n",
    "    return False\n",
    "\n"
   ]
  },
  {
   "cell_type": "code",
   "execution_count": 21,
   "metadata": {},
   "outputs": [
    {
     "name": "stdout",
     "output_type": "stream",
     "text": [
      "True\n"
     ]
    }
   ],
   "source": [
    "\n",
    "# Create the linked list: 1 -> 3 -> 4\n",
    "head = ListNode(1)\n",
    "head.next = ListNode(3)\n",
    "head.next.next = ListNode(4)\n",
    "\n",
    "# Create a loop: 4 -> 3\n",
    "head.next.next.next = head.next\n",
    "\n",
    "# Check if the linked list has a loop\n",
    "has_loop_result = has_loop(head)\n",
    "print(has_loop_result)\n"
   ]
  },
  {
   "cell_type": "code",
   "execution_count": 22,
   "metadata": {},
   "outputs": [
    {
     "name": "stdout",
     "output_type": "stream",
     "text": [
      "False\n"
     ]
    }
   ],
   "source": [
    "# Create the linked list: 1 -> 8 -> 3 -> 4\n",
    "head = ListNode(1)\n",
    "head.next = ListNode(8)\n",
    "head.next.next = ListNode(3)\n",
    "head.next.next.next = ListNode(4)\n",
    "\n",
    "# Check if the linked list has a loop\n",
    "has_loop_result = has_loop(head)\n",
    "print(has_loop_result)\n",
    "\n"
   ]
  },
  {
   "attachments": {},
   "cell_type": "markdown",
   "metadata": {},
   "source": [
    "\n",
    "💡 **Question 3**\n",
    "\n",
    "Given a linked list consisting of **L** nodes and given a number **N**. The task is to find the **N**th node from the end of the linked list.\n",
    "\n",
    "**Example 1:**\n",
    "Input:\n",
    "N = 2\n",
    "LinkedList: 1->2->3->4->5->6->7->8->9\n",
    "Output:8\n",
    "Explanation:In the first example, there\n",
    "are 9 nodes in linked list and we need\n",
    "to find 2nd node from end. 2nd node\n",
    "from end is 8.\n",
    "\n",
    "Example 2:\n",
    "Input:\n",
    "N = 5\n",
    "LinkedList: 10->5->100->5\n",
    "Output:-1\n",
    "Explanation:In the second example, there\n",
    "are 4 nodes in the linked list and we\n",
    "need to find 5th from the end. Since 'n'\n",
    "is more than the number of nodes in the\n",
    "linked list, the output is -1.\n"
   ]
  },
  {
   "cell_type": "code",
   "execution_count": 24,
   "metadata": {},
   "outputs": [
    {
     "name": "stdout",
     "output_type": "stream",
     "text": [
      "8\n",
      "-1\n"
     ]
    }
   ],
   "source": [
    "def find_nth_from_end(head, N):\n",
    "    fast = head\n",
    "    slow = head\n",
    "\n",
    "    # Move the fast pointer N steps ahead\n",
    "    for _ in range(N):\n",
    "        if fast is None:\n",
    "            return -1\n",
    "        fast = fast.next\n",
    "\n",
    "    # Move both pointers until the fast pointer reaches the end\n",
    "    while fast is not None:\n",
    "        fast = fast.next\n",
    "        slow = slow.next\n",
    "\n",
    "    return slow.val  # Return the value of the Nth node from the end\n",
    "\n",
    "\n",
    "# Create the linked list: 1 -> 2 -> 3 -> 4 -> 5 -> 6 -> 7 -> 8 -> 9\n",
    "head = ListNode(1)\n",
    "head.next = ListNode(2)\n",
    "head.next.next = ListNode(3)\n",
    "head.next.next.next = ListNode(4)\n",
    "head.next.next.next.next = ListNode(5)\n",
    "head.next.next.next.next.next = ListNode(6)\n",
    "head.next.next.next.next.next.next = ListNode(7)\n",
    "head.next.next.next.next.next.next.next = ListNode(8)\n",
    "head.next.next.next.next.next.next.next.next = ListNode(9)\n",
    "\n",
    "N = 2\n",
    "result = find_nth_from_end(head, N)\n",
    "print(result)  # Output: 8\n",
    "\n",
    "\n",
    "# Create the linked list: 10 -> 5 -> 100 -> 5\n",
    "head = ListNode(10)\n",
    "head.next = ListNode(5)\n",
    "head.next.next = ListNode(100)\n",
    "head.next.next.next = ListNode(5)\n",
    "\n",
    "N = 5\n",
    "result = find_nth_from_end(head, N)\n",
    "print(result)  # Output: -1\n"
   ]
  },
  {
   "attachments": {},
   "cell_type": "markdown",
   "metadata": {},
   "source": [
    "\n",
    "💡 **Question 4**\n",
    "\n",
    "Given a singly linked list of characters, write a function that returns true if the given list is a palindrome, else false.\n",
    "\n",
    "**Examples:**\n",
    "\n",
    "> Input: R->A->D->A->R->NULL\n",
    "> \n",
    "> \n",
    "> **Output:** Yes\n",
    "> \n",
    "> **Input:** C->O->D->E->NULL\n",
    "> \n",
    "> **Output:** No\n",
    ">"
   ]
  },
  {
   "cell_type": "code",
   "execution_count": 26,
   "metadata": {},
   "outputs": [],
   "source": [
    "def is_palindrome(head):\n",
    "    if head is None or head.next is None:\n",
    "        return True\n",
    "\n",
    "    # Find the middle of the linked list\n",
    "    slow = head\n",
    "    fast = head.next\n",
    "    while fast is not None and fast.next is not None:\n",
    "        slow = slow.next\n",
    "        fast = fast.next.next\n",
    "\n",
    "    # Reverse the second half of the linked list\n",
    "    second_half = reverse_linked_list(slow.next)\n",
    "    slow.next = None\n",
    "\n",
    "    # Compare the first half with the reversed second half\n",
    "    curr1 = head\n",
    "    curr2 = second_half\n",
    "    while curr1 is not None and curr2 is not None:\n",
    "        if curr1.val != curr2.val:\n",
    "            return False\n",
    "        curr1 = curr1.next\n",
    "        curr2 = curr2.next\n",
    "\n",
    "    # Restore the original linked list by reversing the second half again\n",
    "    reverse_linked_list(second_half)\n",
    "\n",
    "    return True\n",
    "\n",
    "\n",
    "def reverse_linked_list(head):\n",
    "    prev = None\n",
    "    curr = head\n",
    "\n",
    "    while curr is not None:\n",
    "        next_node = curr.next\n",
    "        curr.next = prev\n",
    "        prev = curr\n",
    "        curr = next_node\n",
    "\n",
    "    return prev\n"
   ]
  },
  {
   "cell_type": "code",
   "execution_count": 27,
   "metadata": {},
   "outputs": [
    {
     "name": "stdout",
     "output_type": "stream",
     "text": [
      "True\n",
      "False\n"
     ]
    }
   ],
   "source": [
    "# Example 1\n",
    "head1 = ListNode('R')\n",
    "head1.next = ListNode('A')\n",
    "head1.next.next = ListNode('D')\n",
    "head1.next.next.next = ListNode('A')\n",
    "head1.next.next.next.next = ListNode('R')\n",
    "print(is_palindrome(head1))  \n",
    "\n",
    "# Example 2\n",
    "head2 = ListNode('C')\n",
    "head2.next = ListNode('O')\n",
    "head2.next.next = ListNode('D')\n",
    "head2.next.next.next = ListNode('E')\n",
    "print(is_palindrome(head2))\n"
   ]
  },
  {
   "attachments": {},
   "cell_type": "markdown",
   "metadata": {},
   "source": [
    "\n",
    "💡 **Question 5**\n",
    "\n",
    "Given a linked list of **N** nodes such that it may contain a loop.\n",
    "\n",
    "A loop here means that the last node of the link list is connected to the node at position X(1-based index). If the link list does not have any loop, X=0.\n",
    "\n",
    "Remove the loop from the linked list, if it is present, i.e. unlink the last node which is forming the loop.\n",
    "\n",
    "**Example 1:**\n",
    "\n",
    "Input:\n",
    "N = 3\n",
    "value[] = {1,3,4}\n",
    "X = 2\n",
    "Output:1\n",
    "Explanation:The link list looks like\n",
    "1 -> 3 -> 4\n",
    "     ^    |\n",
    "     |____|\n",
    "A loop is present. If you remove it\n",
    "successfully, the answer will be 1.\n",
    "EXAMPLE 2:\n",
    "Input:\n",
    "N = 4\n",
    "value[] = {1,8,3,4}\n",
    "X = 0\n",
    "Output:1 \n",
    "Explanation:The Linked list does not\n",
    "contains any loop."
   ]
  },
  {
   "cell_type": "code",
   "execution_count": 13,
   "metadata": {},
   "outputs": [],
   "source": [
    "class Node:\n",
    "    def __init__(self, data=None):\n",
    "        self.data = data\n",
    "        self.next = None\n",
    "\n",
    "def detect_and_remove_loop(head):\n",
    "    if not head or not head.next:\n",
    "        return head\n",
    "\n",
    "    slow = head\n",
    "    fast = head\n",
    "\n",
    "    while fast and fast.next:\n",
    "        slow = slow.next\n",
    "        fast = fast.next.next\n",
    "\n",
    "        if slow == fast:\n",
    "            break\n",
    "\n",
    "    if fast is None or fast.next is None:\n",
    "        return head\n",
    "\n",
    "    slow = head\n",
    "\n",
    "    while slow.next != fast.next:\n",
    "        slow = slow.next\n",
    "        fast = fast.next\n",
    "\n",
    "    fast.next = None\n",
    "\n",
    "    return head\n"
   ]
  },
  {
   "cell_type": "code",
   "execution_count": 14,
   "metadata": {},
   "outputs": [
    {
     "name": "stdout",
     "output_type": "stream",
     "text": [
      "1->3->4->"
     ]
    }
   ],
   "source": [
    "# Create a linked list with a loop\n",
    "head = Node(1)\n",
    "head.next = Node(3)\n",
    "head.next.next = Node(4)\n",
    "head.next.next.next = head.next  # Create a loop\n",
    "\n",
    "# Remove the loop\n",
    "result = detect_and_remove_loop(head)\n",
    "\n",
    "# Print the modified linked list\n",
    "current = result\n",
    "while current:\n",
    "    print(current.data, end=\"->\")\n",
    "    current = current.next\n"
   ]
  },
  {
   "attachments": {},
   "cell_type": "markdown",
   "metadata": {},
   "source": [
    " **Question 6**\n",
    "\n",
    "Given a linked list and two integers M and N. Traverse the linked list such that you retain M nodes then delete next N nodes, continue the same till end of the linked list.\n",
    "\n",
    "Difficulty Level: Rookie\n",
    "\n",
    "**Examples**:\n",
    "\n",
    "Input:\n",
    "M = 2, N = 2\n",
    "Linked List: 1->2->3->4->5->6->7->8\n",
    "Output:\n",
    "Linked List: 1->2->5->6\n",
    "\n",
    "Input:\n",
    "M = 3, N = 2\n",
    "Linked List: 1->2->3->4->5->6->7->8->9->10\n",
    "Output:\n",
    "Linked List: 1->2->3->6->7->8\n",
    "\n",
    "Input:\n",
    "M = 1, N = 1\n",
    "Linked List: 1->2->3->4->5->6->7->8->9->10\n",
    "Output:\n",
    "Linked List: 1->3->5->7->9"
   ]
  },
  {
   "cell_type": "code",
   "execution_count": 5,
   "metadata": {},
   "outputs": [],
   "source": [
    "class Node:\n",
    "    def __init__(self, data=None):\n",
    "        self.data = data\n",
    "        self.next = None\n",
    "\n",
    "def skip_and_delete(head, M, N):\n",
    "    if not head or M <= 0 or N <= 0:\n",
    "        return head\n",
    "\n",
    "    current = head\n",
    "    prev = None\n",
    "\n",
    "    while current:\n",
    "        # Skip M nodes\n",
    "        for _ in range(M - 1):\n",
    "            if current.next:\n",
    "                current = current.next\n",
    "            else:\n",
    "                break\n",
    "\n",
    "        # Exit if reached end of the list\n",
    "        if not current:\n",
    "            break\n",
    "\n",
    "        # Delete N nodes\n",
    "        prev = current\n",
    "        for _ in range(N):\n",
    "            if current.next:\n",
    "                current = current.next\n",
    "            else:\n",
    "                break\n",
    "\n",
    "        # Set the next of the prev node\n",
    "        prev.next = current.next\n",
    "\n",
    "    return head\n",
    "\n"
   ]
  },
  {
   "attachments": {},
   "cell_type": "markdown",
   "metadata": {},
   "source": [
    "\n",
    "**Question 7**\n",
    "\n",
    "Given two linked lists, insert nodes of second list into first list at alternate positions of first list.\n",
    "For example, if first list is 5->7->17->13->11 and second is 12->10->2->4->6, the first list should become 5->12->7->10->17->2->13->4->11->6 and second list should become empty. The nodes of second list should only be inserted when there are positions available. For example, if the first list is 1->2->3 and second list is 4->5->6->7->8, then first list should become 1->4->2->5->3->6 and second list to 7->8.\n",
    "\n",
    "Use of extra space is not allowed (Not allowed to create additional nodes), i.e., insertion must be done in-place. Expected time complexity is O(n) where n is number of nodes in first list.\n"
   ]
  },
  {
   "cell_type": "code",
   "execution_count": 7,
   "metadata": {},
   "outputs": [],
   "source": [
    "class Node:\n",
    "    def __init__(self, data=None):\n",
    "        self.data = data\n",
    "        self.next = None\n",
    "\n",
    "def insert_alternate(first, second):\n",
    "    if not first:\n",
    "        return second\n",
    "\n",
    "    if not second:\n",
    "        return first\n",
    "\n",
    "    current_first = first\n",
    "    current_second = second\n",
    "\n",
    "    while current_first and current_second:\n",
    "        first_next = current_first.next\n",
    "        second_next = current_second.next\n",
    "\n",
    "        current_second.next = first_next\n",
    "        current_first.next = current_second\n",
    "\n",
    "        current_first = first_next\n",
    "        current_second = second_next\n",
    "\n",
    "    if current_second:\n",
    "        current_first.next = current_second\n",
    "\n",
    "    second = None\n",
    "\n",
    "    return first\n"
   ]
  },
  {
   "cell_type": "code",
   "execution_count": 8,
   "metadata": {},
   "outputs": [
    {
     "name": "stdout",
     "output_type": "stream",
     "text": [
      "5->12->7->10->17->2->13->4->11->6->12->7->10->17->2->13->4->11->6->"
     ]
    }
   ],
   "source": [
    "# Create the first linked list\n",
    "first_head = Node(5)\n",
    "first_head.next = Node(7)\n",
    "first_head.next.next = Node(17)\n",
    "first_head.next.next.next = Node(13)\n",
    "first_head.next.next.next.next = Node(11)\n",
    "\n",
    "# Create the second linked list\n",
    "second_head = Node(12)\n",
    "second_head.next = Node(10)\n",
    "second_head.next.next = Node(2)\n",
    "second_head.next.next.next = Node(4)\n",
    "second_head.next.next.next.next = Node(6)\n",
    "\n",
    "# Insert alternate nodes\n",
    "result = insert_alternate(first_head, second_head)\n",
    "\n",
    "# Print the modified first linked list\n",
    "current = result\n",
    "while current:\n",
    "    print(current.data, end=\"->\")\n",
    "    current = current.next\n",
    "\n",
    "# Print the modified second linked list\n",
    "current = second_head\n",
    "while current:\n",
    "    print(current.data, end=\"->\")\n",
    "    current = current.next\n"
   ]
  },
  {
   "attachments": {},
   "cell_type": "markdown",
   "metadata": {},
   "source": [
    "\n",
    "💡 **Question 8**\n",
    "\n",
    "Given a singly linked list, find if the linked list is [circular](https://www.geeksforgeeks.org/circular-linked-list/amp/) or not.\n",
    "\n",
    "> A linked list is called circular if it is not NULL-terminated and all nodes are connected in the form of a cycle. Below is an example of a circular linked list.\n",
    "> \n"
   ]
  },
  {
   "cell_type": "code",
   "execution_count": 10,
   "metadata": {},
   "outputs": [
    {
     "name": "stdout",
     "output_type": "stream",
     "text": [
      "True\n"
     ]
    }
   ],
   "source": [
    "class Node:\n",
    "    def __init__(self, data=None):\n",
    "        self.data = data\n",
    "        self.next = None\n",
    "\n",
    "def is_circular_linked_list(head):\n",
    "    if not head:\n",
    "        return False\n",
    "\n",
    "    slow = head\n",
    "    fast = head\n",
    "\n",
    "    while fast and fast.next:\n",
    "        slow = slow.next\n",
    "        fast = fast.next.next\n",
    "\n",
    "        if slow == fast:\n",
    "            return True\n",
    "\n",
    "    return False\n",
    "\n",
    "# Create a circular linked list\n",
    "head = Node(1)\n",
    "head.next = Node(2)\n",
    "head.next.next = Node(3)\n",
    "head.next.next.next = Node(4)\n",
    "head.next.next.next.next = head  # Make it circular\n",
    "\n",
    "# Check if the linked list is circular\n",
    "result = is_circular_linked_list(head)\n",
    "print(result)  # Output: True\n"
   ]
  },
  {
   "cell_type": "code",
   "execution_count": null,
   "metadata": {},
   "outputs": [],
   "source": []
  },
  {
   "cell_type": "code",
   "execution_count": null,
   "metadata": {},
   "outputs": [],
   "source": []
  }
 ],
 "metadata": {
  "kernelspec": {
   "display_name": "base",
   "language": "python",
   "name": "python3"
  },
  "language_info": {
   "codemirror_mode": {
    "name": "ipython",
    "version": 3
   },
   "file_extension": ".py",
   "mimetype": "text/x-python",
   "name": "python",
   "nbconvert_exporter": "python",
   "pygments_lexer": "ipython3",
   "version": "3.9.12"
  },
  "orig_nbformat": 4
 },
 "nbformat": 4,
 "nbformat_minor": 2
}
